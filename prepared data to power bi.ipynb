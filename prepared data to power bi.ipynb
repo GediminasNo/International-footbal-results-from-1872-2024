{
 "cells": [
  {
   "cell_type": "code",
   "execution_count": 20,
   "id": "91898c78-7e2d-4d07-a60f-7a2c723741fc",
   "metadata": {},
   "outputs": [],
   "source": [
    "import pandas as pd \n",
    "import numpy as np "
   ]
  },
  {
   "cell_type": "code",
   "execution_count": 21,
   "id": "bd16a41d-2324-46e1-8b3b-3922af87a1b1",
   "metadata": {},
   "outputs": [],
   "source": [
    "df = pd.read_csv('fixed_goal_scorer.csv')\n"
   ]
  },
  {
   "cell_type": "code",
   "execution_count": 22,
   "id": "3bb41463-f14a-456c-8c21-4406e4d47e1e",
   "metadata": {},
   "outputs": [
    {
     "data": {
      "text/html": [
       "<div>\n",
       "<style scoped>\n",
       "    .dataframe tbody tr th:only-of-type {\n",
       "        vertical-align: middle;\n",
       "    }\n",
       "\n",
       "    .dataframe tbody tr th {\n",
       "        vertical-align: top;\n",
       "    }\n",
       "\n",
       "    .dataframe thead th {\n",
       "        text-align: right;\n",
       "    }\n",
       "</style>\n",
       "<table border=\"1\" class=\"dataframe\">\n",
       "  <thead>\n",
       "    <tr style=\"text-align: right;\">\n",
       "      <th></th>\n",
       "      <th>date</th>\n",
       "      <th>team</th>\n",
       "      <th>scorer</th>\n",
       "      <th>minute</th>\n",
       "      <th>own_goal</th>\n",
       "      <th>penalty</th>\n",
       "      <th>Year</th>\n",
       "      <th>Month</th>\n",
       "      <th>Day</th>\n",
       "    </tr>\n",
       "  </thead>\n",
       "  <tbody>\n",
       "    <tr>\n",
       "      <th>0</th>\n",
       "      <td>1916-07-02</td>\n",
       "      <td>Uruguay</td>\n",
       "      <td>José Piendibene</td>\n",
       "      <td>44.0</td>\n",
       "      <td>False</td>\n",
       "      <td>False</td>\n",
       "      <td>1916</td>\n",
       "      <td>7</td>\n",
       "      <td>2</td>\n",
       "    </tr>\n",
       "    <tr>\n",
       "      <th>1</th>\n",
       "      <td>1916-07-02</td>\n",
       "      <td>Uruguay</td>\n",
       "      <td>Isabelino Gradín</td>\n",
       "      <td>55.0</td>\n",
       "      <td>False</td>\n",
       "      <td>False</td>\n",
       "      <td>1916</td>\n",
       "      <td>7</td>\n",
       "      <td>2</td>\n",
       "    </tr>\n",
       "    <tr>\n",
       "      <th>2</th>\n",
       "      <td>1916-07-02</td>\n",
       "      <td>Uruguay</td>\n",
       "      <td>Isabelino Gradín</td>\n",
       "      <td>70.0</td>\n",
       "      <td>False</td>\n",
       "      <td>False</td>\n",
       "      <td>1916</td>\n",
       "      <td>7</td>\n",
       "      <td>2</td>\n",
       "    </tr>\n",
       "    <tr>\n",
       "      <th>3</th>\n",
       "      <td>1916-07-02</td>\n",
       "      <td>Uruguay</td>\n",
       "      <td>José Piendibene</td>\n",
       "      <td>75.0</td>\n",
       "      <td>False</td>\n",
       "      <td>False</td>\n",
       "      <td>1916</td>\n",
       "      <td>7</td>\n",
       "      <td>2</td>\n",
       "    </tr>\n",
       "    <tr>\n",
       "      <th>4</th>\n",
       "      <td>1916-07-06</td>\n",
       "      <td>Argentina</td>\n",
       "      <td>Alberto Ohaco</td>\n",
       "      <td>2.0</td>\n",
       "      <td>False</td>\n",
       "      <td>False</td>\n",
       "      <td>1916</td>\n",
       "      <td>7</td>\n",
       "      <td>6</td>\n",
       "    </tr>\n",
       "    <tr>\n",
       "      <th>...</th>\n",
       "      <td>...</td>\n",
       "      <td>...</td>\n",
       "      <td>...</td>\n",
       "      <td>...</td>\n",
       "      <td>...</td>\n",
       "      <td>...</td>\n",
       "      <td>...</td>\n",
       "      <td>...</td>\n",
       "      <td>...</td>\n",
       "    </tr>\n",
       "    <tr>\n",
       "      <th>44357</th>\n",
       "      <td>2024-07-13</td>\n",
       "      <td>Uruguay</td>\n",
       "      <td>Luis Suárez</td>\n",
       "      <td>90.0</td>\n",
       "      <td>False</td>\n",
       "      <td>False</td>\n",
       "      <td>2024</td>\n",
       "      <td>7</td>\n",
       "      <td>13</td>\n",
       "    </tr>\n",
       "    <tr>\n",
       "      <th>44358</th>\n",
       "      <td>2024-07-14</td>\n",
       "      <td>Argentina</td>\n",
       "      <td>Lautaro Martínez</td>\n",
       "      <td>112.0</td>\n",
       "      <td>False</td>\n",
       "      <td>False</td>\n",
       "      <td>2024</td>\n",
       "      <td>7</td>\n",
       "      <td>14</td>\n",
       "    </tr>\n",
       "    <tr>\n",
       "      <th>44359</th>\n",
       "      <td>2024-07-14</td>\n",
       "      <td>Spain</td>\n",
       "      <td>Nico Williams</td>\n",
       "      <td>47.0</td>\n",
       "      <td>False</td>\n",
       "      <td>False</td>\n",
       "      <td>2024</td>\n",
       "      <td>7</td>\n",
       "      <td>14</td>\n",
       "    </tr>\n",
       "    <tr>\n",
       "      <th>44360</th>\n",
       "      <td>2024-07-14</td>\n",
       "      <td>England</td>\n",
       "      <td>Cole Palmer</td>\n",
       "      <td>73.0</td>\n",
       "      <td>False</td>\n",
       "      <td>False</td>\n",
       "      <td>2024</td>\n",
       "      <td>7</td>\n",
       "      <td>14</td>\n",
       "    </tr>\n",
       "    <tr>\n",
       "      <th>44361</th>\n",
       "      <td>2024-07-14</td>\n",
       "      <td>Spain</td>\n",
       "      <td>Mikel Oyarzabal</td>\n",
       "      <td>86.0</td>\n",
       "      <td>False</td>\n",
       "      <td>False</td>\n",
       "      <td>2024</td>\n",
       "      <td>7</td>\n",
       "      <td>14</td>\n",
       "    </tr>\n",
       "  </tbody>\n",
       "</table>\n",
       "<p>44362 rows × 9 columns</p>\n",
       "</div>"
      ],
      "text/plain": [
       "             date       team            scorer  minute  own_goal  penalty  \\\n",
       "0      1916-07-02    Uruguay   José Piendibene    44.0     False    False   \n",
       "1      1916-07-02    Uruguay  Isabelino Gradín    55.0     False    False   \n",
       "2      1916-07-02    Uruguay  Isabelino Gradín    70.0     False    False   \n",
       "3      1916-07-02    Uruguay   José Piendibene    75.0     False    False   \n",
       "4      1916-07-06  Argentina     Alberto Ohaco     2.0     False    False   \n",
       "...           ...        ...               ...     ...       ...      ...   \n",
       "44357  2024-07-13    Uruguay       Luis Suárez    90.0     False    False   \n",
       "44358  2024-07-14  Argentina  Lautaro Martínez   112.0     False    False   \n",
       "44359  2024-07-14      Spain     Nico Williams    47.0     False    False   \n",
       "44360  2024-07-14    England       Cole Palmer    73.0     False    False   \n",
       "44361  2024-07-14      Spain   Mikel Oyarzabal    86.0     False    False   \n",
       "\n",
       "       Year  Month  Day  \n",
       "0      1916      7    2  \n",
       "1      1916      7    2  \n",
       "2      1916      7    2  \n",
       "3      1916      7    2  \n",
       "4      1916      7    6  \n",
       "...     ...    ...  ...  \n",
       "44357  2024      7   13  \n",
       "44358  2024      7   14  \n",
       "44359  2024      7   14  \n",
       "44360  2024      7   14  \n",
       "44361  2024      7   14  \n",
       "\n",
       "[44362 rows x 9 columns]"
      ]
     },
     "execution_count": 22,
     "metadata": {},
     "output_type": "execute_result"
    }
   ],
   "source": [
    "df"
   ]
  },
  {
   "cell_type": "code",
   "execution_count": 49,
   "id": "24c531b5-2300-4db5-adb1-86c0fa684c14",
   "metadata": {},
   "outputs": [],
   "source": [
    "team=df.groupby(['team','Year'])['minute'].median()"
   ]
  },
  {
   "cell_type": "code",
   "execution_count": 50,
   "id": "512b30e4-f6fd-4d1d-b43c-a4f9185b0f51",
   "metadata": {},
   "outputs": [
    {
     "data": {
      "text/plain": [
       "team         Year\n",
       "Afghanistan  2007    16.0\n",
       "             2011    63.0\n",
       "             2015    78.0\n",
       "             2016    59.0\n",
       "             2019    36.0\n",
       "                     ... \n",
       "Zimbabwe     2013    58.0\n",
       "             2017    35.5\n",
       "             2019    81.5\n",
       "             2021    44.0\n",
       "             2022    38.0\n",
       "Name: minute, Length: 5741, dtype: float64"
      ]
     },
     "execution_count": 50,
     "metadata": {},
     "output_type": "execute_result"
    }
   ],
   "source": [
    "team"
   ]
  },
  {
   "cell_type": "code",
   "execution_count": 51,
   "id": "e100ba27-f190-400d-93c7-7eb13212bd09",
   "metadata": {},
   "outputs": [],
   "source": [
    "median_values = df.groupby(['team','scorer','minute'])['Year'].median()"
   ]
  },
  {
   "cell_type": "code",
   "execution_count": 55,
   "id": "f4322642-99da-493e-86ab-a81a106c4f3c",
   "metadata": {},
   "outputs": [],
   "source": [
    "median_values.to_csv('median_values.csv')"
   ]
  },
  {
   "cell_type": "code",
   "execution_count": 45,
   "id": "d8e720f8-1298-493a-b989-2237c3fb074f",
   "metadata": {},
   "outputs": [],
   "source": [
    "own_goal_by_team= df.groupby('team')['own_goal'].sum()"
   ]
  },
  {
   "cell_type": "code",
   "execution_count": 46,
   "id": "19085928-6626-44c3-8a47-26e284028874",
   "metadata": {},
   "outputs": [],
   "source": [
    "penalty_by_team=df.groupby('team')['penalty'].sum()"
   ]
  },
  {
   "cell_type": "code",
   "execution_count": 53,
   "id": "5f1db440-ad94-4100-a4b8-a074e3cef1d1",
   "metadata": {},
   "outputs": [],
   "source": [
    "own_goal_by_team.to_csv('own_goal_by_team.csv')"
   ]
  },
  {
   "cell_type": "code",
   "execution_count": 54,
   "id": "a19d47ec-3747-46d8-9754-1b05d334579b",
   "metadata": {},
   "outputs": [],
   "source": [
    "penalty_by_team.to_csv('penalty_by_team.csv')"
   ]
  }
 ],
 "metadata": {
  "kernelspec": {
   "display_name": "Python 3 (ipykernel)",
   "language": "python",
   "name": "python3"
  },
  "language_info": {
   "codemirror_mode": {
    "name": "ipython",
    "version": 3
   },
   "file_extension": ".py",
   "mimetype": "text/x-python",
   "name": "python",
   "nbconvert_exporter": "python",
   "pygments_lexer": "ipython3",
   "version": "3.10.4"
  }
 },
 "nbformat": 4,
 "nbformat_minor": 5
}
